{
  "nbformat": 4,
  "nbformat_minor": 0,
  "metadata": {
    "colab": {
      "name": "case_fgv_star_wars.ipynb",
      "provenance": []
    },
    "kernelspec": {
      "display_name": "Python 3",
      "name": "python3"
    },
    "language_info": {
      "name": "python"
    }
  },
  "cells": [
    {
      "cell_type": "markdown",
      "metadata": {
        "id": "Qa7onfc5DCeI"
      },
      "source": [
        "***Processo Seletivo para Analista de dados júnior***\n",
        "\n",
        "***Case Star Wars***\n",
        "\n",
        "Candidata : ***Paula Macedo da Cruz***\n",
        "\n",
        "Data : 12/11/2021 "
      ]
    },
    {
      "cell_type": "markdown",
      "metadata": {
        "id": "uCn3fvdzDg4q"
      },
      "source": [
        "\n",
        "***1. Importação de bibliotecas***\n",
        "\n",
        "\n",
        "\n",
        "\n",
        "\n"
      ]
    },
    {
      "cell_type": "code",
      "metadata": {
        "id": "l2r38d3kC8FL"
      },
      "source": [
        "import sqlite3\n",
        "import pandas as pd\n",
        "from matplotlib import pyplot as plt"
      ],
      "execution_count": null,
      "outputs": []
    },
    {
      "cell_type": "markdown",
      "metadata": {
        "id": "OxvxbRWI4wpH"
      },
      "source": [
        "***2.Tratamento dataset***"
      ]
    },
    {
      "cell_type": "markdown",
      "metadata": {
        "id": "0WduRLPdFOUw"
      },
      "source": [
        "Leitura do arquivo"
      ]
    },
    {
      "cell_type": "code",
      "metadata": {
        "id": "7BJbQ7MIFDPa"
      },
      "source": [
        "csv = 'SW_Case.csv'\n",
        "data = pd.read_csv(csv, sep=';', encoding='utf-8')"
      ],
      "execution_count": null,
      "outputs": []
    },
    {
      "cell_type": "markdown",
      "metadata": {
        "id": "my7_Qag0tcze"
      },
      "source": [
        "Criação da coluna ID que servirá de identificador para cada tupla do csv."
      ]
    },
    {
      "cell_type": "code",
      "metadata": {
        "id": "l871rRAunvRe"
      },
      "source": [
        "data.insert(0, 'ID', range(1, 1+len(data)), True)"
      ],
      "execution_count": null,
      "outputs": []
    },
    {
      "cell_type": "code",
      "metadata": {
        "id": "SJLSxJhBFrnJ",
        "colab": {
          "base_uri": "https://localhost:8080/",
          "height": 472
        },
        "outputId": "46bab02a-da8d-46cf-ade6-8992e3919e34"
      },
      "source": [
        "data.head()"
      ],
      "execution_count": null,
      "outputs": [
        {
          "output_type": "execute_result",
          "data": {
            "text/html": [
              "<div>\n",
              "<style scoped>\n",
              "    .dataframe tbody tr th:only-of-type {\n",
              "        vertical-align: middle;\n",
              "    }\n",
              "\n",
              "    .dataframe tbody tr th {\n",
              "        vertical-align: top;\n",
              "    }\n",
              "\n",
              "    .dataframe thead th {\n",
              "        text-align: right;\n",
              "    }\n",
              "</style>\n",
              "<table border=\"1\" class=\"dataframe\">\n",
              "  <thead>\n",
              "    <tr style=\"text-align: right;\">\n",
              "      <th></th>\n",
              "      <th>ID</th>\n",
              "      <th>V1</th>\n",
              "      <th>V2</th>\n",
              "      <th>V3</th>\n",
              "      <th>V4</th>\n",
              "      <th>V5</th>\n",
              "      <th>V6</th>\n",
              "      <th>V7</th>\n",
              "      <th>V8</th>\n",
              "      <th>V9</th>\n",
              "      <th>V10</th>\n",
              "      <th>V11</th>\n",
              "      <th>V12</th>\n",
              "      <th>V13</th>\n",
              "      <th>V14</th>\n",
              "      <th>V15</th>\n",
              "      <th>V16</th>\n",
              "      <th>V17</th>\n",
              "      <th>V18</th>\n",
              "      <th>V19</th>\n",
              "      <th>V20</th>\n",
              "      <th>V21</th>\n",
              "      <th>V22</th>\n",
              "      <th>V23</th>\n",
              "      <th>V24</th>\n",
              "      <th>V25</th>\n",
              "      <th>V26</th>\n",
              "      <th>V27</th>\n",
              "      <th>V28</th>\n",
              "      <th>V29</th>\n",
              "      <th>V30</th>\n",
              "      <th>V31</th>\n",
              "      <th>V32</th>\n",
              "      <th>V33</th>\n",
              "      <th>V34</th>\n",
              "      <th>V35</th>\n",
              "      <th>V36</th>\n",
              "      <th>V37</th>\n",
              "      <th>V38</th>\n",
              "    </tr>\n",
              "  </thead>\n",
              "  <tbody>\n",
              "    <tr>\n",
              "      <th>0</th>\n",
              "      <td>1</td>\n",
              "      <td>1,63E-300</td>\n",
              "      <td>Yes</td>\n",
              "      <td>Yes</td>\n",
              "      <td>1</td>\n",
              "      <td>1</td>\n",
              "      <td>1</td>\n",
              "      <td>1</td>\n",
              "      <td>1</td>\n",
              "      <td>1</td>\n",
              "      <td>3.0</td>\n",
              "      <td>2.0</td>\n",
              "      <td>1.0</td>\n",
              "      <td>4.0</td>\n",
              "      <td>5.0</td>\n",
              "      <td>6.0</td>\n",
              "      <td>Very favorably</td>\n",
              "      <td>Very favorably</td>\n",
              "      <td>Very favorably</td>\n",
              "      <td>Very favorably</td>\n",
              "      <td>Very favorably</td>\n",
              "      <td>Very favorably</td>\n",
              "      <td>Very favorably</td>\n",
              "      <td>Unfamiliar (N/A)</td>\n",
              "      <td>Unfamiliar (N/A)</td>\n",
              "      <td>Very favorably</td>\n",
              "      <td>Very favorably</td>\n",
              "      <td>Very favorably</td>\n",
              "      <td>Very favorably</td>\n",
              "      <td>Very favorably</td>\n",
              "      <td>I don't understand this question</td>\n",
              "      <td>Yes</td>\n",
              "      <td>No</td>\n",
              "      <td>No</td>\n",
              "      <td>Male</td>\n",
              "      <td>18-29</td>\n",
              "      <td>NaN</td>\n",
              "      <td>High school degree</td>\n",
              "      <td>South Atlantic</td>\n",
              "    </tr>\n",
              "    <tr>\n",
              "      <th>1</th>\n",
              "      <td>2</td>\n",
              "      <td>1,63E-301</td>\n",
              "      <td>No</td>\n",
              "      <td>NaN</td>\n",
              "      <td>0</td>\n",
              "      <td>0</td>\n",
              "      <td>0</td>\n",
              "      <td>0</td>\n",
              "      <td>0</td>\n",
              "      <td>0</td>\n",
              "      <td>NaN</td>\n",
              "      <td>NaN</td>\n",
              "      <td>NaN</td>\n",
              "      <td>NaN</td>\n",
              "      <td>NaN</td>\n",
              "      <td>NaN</td>\n",
              "      <td>NaN</td>\n",
              "      <td>NaN</td>\n",
              "      <td>NaN</td>\n",
              "      <td>NaN</td>\n",
              "      <td>NaN</td>\n",
              "      <td>NaN</td>\n",
              "      <td>NaN</td>\n",
              "      <td>NaN</td>\n",
              "      <td>NaN</td>\n",
              "      <td>NaN</td>\n",
              "      <td>NaN</td>\n",
              "      <td>NaN</td>\n",
              "      <td>NaN</td>\n",
              "      <td>NaN</td>\n",
              "      <td>NaN</td>\n",
              "      <td>NaN</td>\n",
              "      <td>NaN</td>\n",
              "      <td>Yes</td>\n",
              "      <td>Male</td>\n",
              "      <td>18-29</td>\n",
              "      <td>$0 - $24,999</td>\n",
              "      <td>Bachelor degree</td>\n",
              "      <td>West South Central</td>\n",
              "    </tr>\n",
              "    <tr>\n",
              "      <th>2</th>\n",
              "      <td>3</td>\n",
              "      <td>1,63E-300</td>\n",
              "      <td>Yes</td>\n",
              "      <td>No</td>\n",
              "      <td>1</td>\n",
              "      <td>1</td>\n",
              "      <td>1</td>\n",
              "      <td>0</td>\n",
              "      <td>0</td>\n",
              "      <td>0</td>\n",
              "      <td>1.0</td>\n",
              "      <td>2.0</td>\n",
              "      <td>3.0</td>\n",
              "      <td>4.0</td>\n",
              "      <td>5.0</td>\n",
              "      <td>6.0</td>\n",
              "      <td>Somewhat favorably</td>\n",
              "      <td>Somewhat favorably</td>\n",
              "      <td>Somewhat favorably</td>\n",
              "      <td>Somewhat favorably</td>\n",
              "      <td>Somewhat favorably</td>\n",
              "      <td>Unfamiliar (N/A)</td>\n",
              "      <td>Unfamiliar (N/A)</td>\n",
              "      <td>Unfamiliar (N/A)</td>\n",
              "      <td>Unfamiliar (N/A)</td>\n",
              "      <td>Unfamiliar (N/A)</td>\n",
              "      <td>Unfamiliar (N/A)</td>\n",
              "      <td>Unfamiliar (N/A)</td>\n",
              "      <td>Unfamiliar (N/A)</td>\n",
              "      <td>Unfamiliar (N/A)</td>\n",
              "      <td>I don't understand this question</td>\n",
              "      <td>No</td>\n",
              "      <td>NaN</td>\n",
              "      <td>No</td>\n",
              "      <td>Male</td>\n",
              "      <td>18-29</td>\n",
              "      <td>$0 - $24,999</td>\n",
              "      <td>High school degree</td>\n",
              "      <td>West North Central</td>\n",
              "    </tr>\n",
              "    <tr>\n",
              "      <th>3</th>\n",
              "      <td>4</td>\n",
              "      <td>1,63E-300</td>\n",
              "      <td>Yes</td>\n",
              "      <td>Yes</td>\n",
              "      <td>1</td>\n",
              "      <td>1</td>\n",
              "      <td>1</td>\n",
              "      <td>1</td>\n",
              "      <td>1</td>\n",
              "      <td>1</td>\n",
              "      <td>5.0</td>\n",
              "      <td>6.0</td>\n",
              "      <td>1.0</td>\n",
              "      <td>2.0</td>\n",
              "      <td>4.0</td>\n",
              "      <td>3.0</td>\n",
              "      <td>Very favorably</td>\n",
              "      <td>Very favorably</td>\n",
              "      <td>Very favorably</td>\n",
              "      <td>Very favorably</td>\n",
              "      <td>Very favorably</td>\n",
              "      <td>Somewhat favorably</td>\n",
              "      <td>Very favorably</td>\n",
              "      <td>Somewhat favorably</td>\n",
              "      <td>Somewhat unfavorably</td>\n",
              "      <td>Very favorably</td>\n",
              "      <td>Very favorably</td>\n",
              "      <td>Very favorably</td>\n",
              "      <td>Very favorably</td>\n",
              "      <td>Very favorably</td>\n",
              "      <td>I don't understand this question</td>\n",
              "      <td>No</td>\n",
              "      <td>NaN</td>\n",
              "      <td>Yes</td>\n",
              "      <td>Male</td>\n",
              "      <td>18-29</td>\n",
              "      <td>$100,000 - $149,999</td>\n",
              "      <td>Some college or Associate degree</td>\n",
              "      <td>West North Central</td>\n",
              "    </tr>\n",
              "    <tr>\n",
              "      <th>4</th>\n",
              "      <td>5</td>\n",
              "      <td>1,63E-300</td>\n",
              "      <td>Yes</td>\n",
              "      <td>Yes</td>\n",
              "      <td>1</td>\n",
              "      <td>1</td>\n",
              "      <td>1</td>\n",
              "      <td>1</td>\n",
              "      <td>1</td>\n",
              "      <td>1</td>\n",
              "      <td>5.0</td>\n",
              "      <td>4.0</td>\n",
              "      <td>6.0</td>\n",
              "      <td>2.0</td>\n",
              "      <td>1.0</td>\n",
              "      <td>3.0</td>\n",
              "      <td>Very favorably</td>\n",
              "      <td>Somewhat favorably</td>\n",
              "      <td>Somewhat favorably</td>\n",
              "      <td>Somewhat unfavorably</td>\n",
              "      <td>Very favorably</td>\n",
              "      <td>Very unfavorably</td>\n",
              "      <td>Somewhat favorably</td>\n",
              "      <td>Neither favorably nor unfavorably (neutral)</td>\n",
              "      <td>Very favorably</td>\n",
              "      <td>Somewhat favorably</td>\n",
              "      <td>Somewhat favorably</td>\n",
              "      <td>Very unfavorably</td>\n",
              "      <td>Somewhat favorably</td>\n",
              "      <td>Somewhat favorably</td>\n",
              "      <td>Greedo</td>\n",
              "      <td>Yes</td>\n",
              "      <td>No</td>\n",
              "      <td>No</td>\n",
              "      <td>Male</td>\n",
              "      <td>18-29</td>\n",
              "      <td>$100,000 - $149,999</td>\n",
              "      <td>Some college or Associate degree</td>\n",
              "      <td>West North Central</td>\n",
              "    </tr>\n",
              "  </tbody>\n",
              "</table>\n",
              "</div>"
            ],
            "text/plain": [
              "   ID         V1  ...                               V37                 V38\n",
              "0   1  1,63E-300  ...                High school degree      South Atlantic\n",
              "1   2  1,63E-301  ...                   Bachelor degree  West South Central\n",
              "2   3  1,63E-300  ...                High school degree  West North Central\n",
              "3   4  1,63E-300  ...  Some college or Associate degree  West North Central\n",
              "4   5  1,63E-300  ...  Some college or Associate degree  West North Central\n",
              "\n",
              "[5 rows x 39 columns]"
            ]
          },
          "metadata": {},
          "execution_count": 4
        }
      ]
    },
    {
      "cell_type": "markdown",
      "metadata": {
        "id": "8ghrqmPCRyUj"
      },
      "source": [
        "Para facilitar a busca futuramente, convertemos as possíveis respostas da seguinte forma: \n",
        "\n",
        "5 Very favorably                                 \n",
        "4 Somewhat favorably                            \n",
        "3 Neither favorably nor unfavorably (neutral)     \n",
        "2 Somewhat unfavorably                            \n",
        "1 Very unfavorably \n",
        "\n",
        "0 Unfamiliar (N/A) "
      ]
    },
    {
      "cell_type": "code",
      "metadata": {
        "id": "DzjfKDShS0Dz"
      },
      "source": [
        "data['V16'].replace({\"Very favorably\": 5, \"Somewhat favorably\": 4, 'Neither favorably nor unfavorably (neutral)' : 3, 'Somewhat unfavorably' : 2 , 'Very unfavorably' :1, 'Unfamiliar (N/A)' : 0   }, inplace=True)\n",
        "data['V17'].replace({\"Very favorably\": 5, \"Somewhat favorably\": 4, 'Neither favorably nor unfavorably (neutral)' : 3, 'Somewhat unfavorably' : 2 , 'Very unfavorably' :1, 'Unfamiliar (N/A)' : 0   }, inplace=True) \t\n",
        "data['V18'].replace({\"Very favorably\": 5, \"Somewhat favorably\": 4, 'Neither favorably nor unfavorably (neutral)' : 3, 'Somewhat unfavorably' : 2 , 'Very unfavorably' :1, 'Unfamiliar (N/A)' : 0   }, inplace=True)\n",
        "data['V19'].replace({\"Very favorably\": 5, \"Somewhat favorably\": 4, 'Neither favorably nor unfavorably (neutral)' : 3, 'Somewhat unfavorably' : 2 , 'Very unfavorably' :1, 'Unfamiliar (N/A)' : 0   }, inplace=True)\n",
        "data['V20'].replace({\"Very favorably\": 5, \"Somewhat favorably\": 4, 'Neither favorably nor unfavorably (neutral)' : 3, 'Somewhat unfavorably' : 2 , 'Very unfavorably' :1, 'Unfamiliar (N/A)' : 0   }, inplace=True) \t\n",
        "data['V21'].replace({\"Very favorably\": 5, \"Somewhat favorably\": 4, 'Neither favorably nor unfavorably (neutral)' : 3, 'Somewhat unfavorably' : 2 , 'Very unfavorably' :1, 'Unfamiliar (N/A)' : 0   }, inplace=True)\n",
        "data['V22'].replace({\"Very favorably\": 5, \"Somewhat favorably\": 4, 'Neither favorably nor unfavorably (neutral)' : 3, 'Somewhat unfavorably' : 2 , 'Very unfavorably' :1, 'Unfamiliar (N/A)' : 0   }, inplace=True)\n",
        "data['V23'].replace({\"Very favorably\": 5, \"Somewhat favorably\": 4, 'Neither favorably nor unfavorably (neutral)' : 3, 'Somewhat unfavorably' : 2 , 'Very unfavorably' :1, 'Unfamiliar (N/A)' : 0   }, inplace=True)\n",
        "data['V24'].replace({\"Very favorably\": 5, \"Somewhat favorably\": 4, 'Neither favorably nor unfavorably (neutral)' : 3, 'Somewhat unfavorably' : 2 , 'Very unfavorably' :1, 'Unfamiliar (N/A)' : 0   }, inplace=True)\n",
        "data['V25'].replace({\"Very favorably\": 5, \"Somewhat favorably\": 4, 'Neither favorably nor unfavorably (neutral)' : 3, 'Somewhat unfavorably' : 2 , 'Very unfavorably' :1, 'Unfamiliar (N/A)' : 0   }, inplace=True)\t\n",
        "data['V26'].replace({\"Very favorably\": 5, \"Somewhat favorably\": 4, 'Neither favorably nor unfavorably (neutral)' : 3, 'Somewhat unfavorably' : 2 , 'Very unfavorably' :1, 'Unfamiliar (N/A)' : 0   }, inplace=True)\n",
        "data['V27'].replace({\"Very favorably\": 5, \"Somewhat favorably\": 4, 'Neither favorably nor unfavorably (neutral)' : 3, 'Somewhat unfavorably' : 2 , 'Very unfavorably' :1, 'Unfamiliar (N/A)' : 0   }, inplace=True)\n",
        "data['V28'].replace({\"Very favorably\": 5, \"Somewhat favorably\": 4, 'Neither favorably nor unfavorably (neutral)' : 3, 'Somewhat unfavorably' : 2 , 'Very unfavorably' :1, 'Unfamiliar (N/A)' : 0   }, inplace=True)\n",
        "data['V29'].replace({\"Very favorably\": 5, \"Somewhat favorably\": 4, 'Neither favorably nor unfavorably (neutral)' : 3, 'Somewhat unfavorably' : 2 , 'Very unfavorably' :1, 'Unfamiliar (N/A)' : 0   }, inplace=True)"
      ],
      "execution_count": null,
      "outputs": []
    },
    {
      "cell_type": "code",
      "metadata": {
        "colab": {
          "base_uri": "https://localhost:8080/",
          "height": 455
        },
        "id": "gEkUQcvgDbJe",
        "outputId": "64d18f25-c7d1-4ba1-8e68-77a32da3edef"
      },
      "source": [
        "data.head()"
      ],
      "execution_count": null,
      "outputs": [
        {
          "output_type": "execute_result",
          "data": {
            "text/html": [
              "<div>\n",
              "<style scoped>\n",
              "    .dataframe tbody tr th:only-of-type {\n",
              "        vertical-align: middle;\n",
              "    }\n",
              "\n",
              "    .dataframe tbody tr th {\n",
              "        vertical-align: top;\n",
              "    }\n",
              "\n",
              "    .dataframe thead th {\n",
              "        text-align: right;\n",
              "    }\n",
              "</style>\n",
              "<table border=\"1\" class=\"dataframe\">\n",
              "  <thead>\n",
              "    <tr style=\"text-align: right;\">\n",
              "      <th></th>\n",
              "      <th>ID</th>\n",
              "      <th>V1</th>\n",
              "      <th>V2</th>\n",
              "      <th>V3</th>\n",
              "      <th>V4</th>\n",
              "      <th>V5</th>\n",
              "      <th>V6</th>\n",
              "      <th>V7</th>\n",
              "      <th>V8</th>\n",
              "      <th>V9</th>\n",
              "      <th>V10</th>\n",
              "      <th>V11</th>\n",
              "      <th>V12</th>\n",
              "      <th>V13</th>\n",
              "      <th>V14</th>\n",
              "      <th>V15</th>\n",
              "      <th>V16</th>\n",
              "      <th>V17</th>\n",
              "      <th>V18</th>\n",
              "      <th>V19</th>\n",
              "      <th>V20</th>\n",
              "      <th>V21</th>\n",
              "      <th>V22</th>\n",
              "      <th>V23</th>\n",
              "      <th>V24</th>\n",
              "      <th>V25</th>\n",
              "      <th>V26</th>\n",
              "      <th>V27</th>\n",
              "      <th>V28</th>\n",
              "      <th>V29</th>\n",
              "      <th>V30</th>\n",
              "      <th>V31</th>\n",
              "      <th>V32</th>\n",
              "      <th>V33</th>\n",
              "      <th>V34</th>\n",
              "      <th>V35</th>\n",
              "      <th>V36</th>\n",
              "      <th>V37</th>\n",
              "      <th>V38</th>\n",
              "    </tr>\n",
              "  </thead>\n",
              "  <tbody>\n",
              "    <tr>\n",
              "      <th>0</th>\n",
              "      <td>1</td>\n",
              "      <td>1,63E-300</td>\n",
              "      <td>Yes</td>\n",
              "      <td>Yes</td>\n",
              "      <td>1</td>\n",
              "      <td>1</td>\n",
              "      <td>1</td>\n",
              "      <td>1</td>\n",
              "      <td>1</td>\n",
              "      <td>1</td>\n",
              "      <td>3.0</td>\n",
              "      <td>2.0</td>\n",
              "      <td>1.0</td>\n",
              "      <td>4.0</td>\n",
              "      <td>5.0</td>\n",
              "      <td>6.0</td>\n",
              "      <td>5.0</td>\n",
              "      <td>5.0</td>\n",
              "      <td>5.0</td>\n",
              "      <td>5.0</td>\n",
              "      <td>5.0</td>\n",
              "      <td>5.0</td>\n",
              "      <td>5.0</td>\n",
              "      <td>0.0</td>\n",
              "      <td>0.0</td>\n",
              "      <td>5.0</td>\n",
              "      <td>5.0</td>\n",
              "      <td>5.0</td>\n",
              "      <td>5.0</td>\n",
              "      <td>5.0</td>\n",
              "      <td>I don't understand this question</td>\n",
              "      <td>Yes</td>\n",
              "      <td>No</td>\n",
              "      <td>No</td>\n",
              "      <td>Male</td>\n",
              "      <td>18-29</td>\n",
              "      <td>NaN</td>\n",
              "      <td>High school degree</td>\n",
              "      <td>South Atlantic</td>\n",
              "    </tr>\n",
              "    <tr>\n",
              "      <th>1</th>\n",
              "      <td>2</td>\n",
              "      <td>1,63E-301</td>\n",
              "      <td>No</td>\n",
              "      <td>NaN</td>\n",
              "      <td>0</td>\n",
              "      <td>0</td>\n",
              "      <td>0</td>\n",
              "      <td>0</td>\n",
              "      <td>0</td>\n",
              "      <td>0</td>\n",
              "      <td>NaN</td>\n",
              "      <td>NaN</td>\n",
              "      <td>NaN</td>\n",
              "      <td>NaN</td>\n",
              "      <td>NaN</td>\n",
              "      <td>NaN</td>\n",
              "      <td>NaN</td>\n",
              "      <td>NaN</td>\n",
              "      <td>NaN</td>\n",
              "      <td>NaN</td>\n",
              "      <td>NaN</td>\n",
              "      <td>NaN</td>\n",
              "      <td>NaN</td>\n",
              "      <td>NaN</td>\n",
              "      <td>NaN</td>\n",
              "      <td>NaN</td>\n",
              "      <td>NaN</td>\n",
              "      <td>NaN</td>\n",
              "      <td>NaN</td>\n",
              "      <td>NaN</td>\n",
              "      <td>NaN</td>\n",
              "      <td>NaN</td>\n",
              "      <td>NaN</td>\n",
              "      <td>Yes</td>\n",
              "      <td>Male</td>\n",
              "      <td>18-29</td>\n",
              "      <td>$0 - $24,999</td>\n",
              "      <td>Bachelor degree</td>\n",
              "      <td>West South Central</td>\n",
              "    </tr>\n",
              "    <tr>\n",
              "      <th>2</th>\n",
              "      <td>3</td>\n",
              "      <td>1,63E-300</td>\n",
              "      <td>Yes</td>\n",
              "      <td>No</td>\n",
              "      <td>1</td>\n",
              "      <td>1</td>\n",
              "      <td>1</td>\n",
              "      <td>0</td>\n",
              "      <td>0</td>\n",
              "      <td>0</td>\n",
              "      <td>1.0</td>\n",
              "      <td>2.0</td>\n",
              "      <td>3.0</td>\n",
              "      <td>4.0</td>\n",
              "      <td>5.0</td>\n",
              "      <td>6.0</td>\n",
              "      <td>4.0</td>\n",
              "      <td>4.0</td>\n",
              "      <td>4.0</td>\n",
              "      <td>4.0</td>\n",
              "      <td>4.0</td>\n",
              "      <td>0.0</td>\n",
              "      <td>0.0</td>\n",
              "      <td>0.0</td>\n",
              "      <td>0.0</td>\n",
              "      <td>0.0</td>\n",
              "      <td>0.0</td>\n",
              "      <td>0.0</td>\n",
              "      <td>0.0</td>\n",
              "      <td>0.0</td>\n",
              "      <td>I don't understand this question</td>\n",
              "      <td>No</td>\n",
              "      <td>NaN</td>\n",
              "      <td>No</td>\n",
              "      <td>Male</td>\n",
              "      <td>18-29</td>\n",
              "      <td>$0 - $24,999</td>\n",
              "      <td>High school degree</td>\n",
              "      <td>West North Central</td>\n",
              "    </tr>\n",
              "    <tr>\n",
              "      <th>3</th>\n",
              "      <td>4</td>\n",
              "      <td>1,63E-300</td>\n",
              "      <td>Yes</td>\n",
              "      <td>Yes</td>\n",
              "      <td>1</td>\n",
              "      <td>1</td>\n",
              "      <td>1</td>\n",
              "      <td>1</td>\n",
              "      <td>1</td>\n",
              "      <td>1</td>\n",
              "      <td>5.0</td>\n",
              "      <td>6.0</td>\n",
              "      <td>1.0</td>\n",
              "      <td>2.0</td>\n",
              "      <td>4.0</td>\n",
              "      <td>3.0</td>\n",
              "      <td>5.0</td>\n",
              "      <td>5.0</td>\n",
              "      <td>5.0</td>\n",
              "      <td>5.0</td>\n",
              "      <td>5.0</td>\n",
              "      <td>4.0</td>\n",
              "      <td>5.0</td>\n",
              "      <td>4.0</td>\n",
              "      <td>2.0</td>\n",
              "      <td>5.0</td>\n",
              "      <td>5.0</td>\n",
              "      <td>5.0</td>\n",
              "      <td>5.0</td>\n",
              "      <td>5.0</td>\n",
              "      <td>I don't understand this question</td>\n",
              "      <td>No</td>\n",
              "      <td>NaN</td>\n",
              "      <td>Yes</td>\n",
              "      <td>Male</td>\n",
              "      <td>18-29</td>\n",
              "      <td>$100,000 - $149,999</td>\n",
              "      <td>Some college or Associate degree</td>\n",
              "      <td>West North Central</td>\n",
              "    </tr>\n",
              "    <tr>\n",
              "      <th>4</th>\n",
              "      <td>5</td>\n",
              "      <td>1,63E-300</td>\n",
              "      <td>Yes</td>\n",
              "      <td>Yes</td>\n",
              "      <td>1</td>\n",
              "      <td>1</td>\n",
              "      <td>1</td>\n",
              "      <td>1</td>\n",
              "      <td>1</td>\n",
              "      <td>1</td>\n",
              "      <td>5.0</td>\n",
              "      <td>4.0</td>\n",
              "      <td>6.0</td>\n",
              "      <td>2.0</td>\n",
              "      <td>1.0</td>\n",
              "      <td>3.0</td>\n",
              "      <td>5.0</td>\n",
              "      <td>4.0</td>\n",
              "      <td>4.0</td>\n",
              "      <td>2.0</td>\n",
              "      <td>5.0</td>\n",
              "      <td>1.0</td>\n",
              "      <td>4.0</td>\n",
              "      <td>3.0</td>\n",
              "      <td>5.0</td>\n",
              "      <td>4.0</td>\n",
              "      <td>4.0</td>\n",
              "      <td>1.0</td>\n",
              "      <td>4.0</td>\n",
              "      <td>4.0</td>\n",
              "      <td>Greedo</td>\n",
              "      <td>Yes</td>\n",
              "      <td>No</td>\n",
              "      <td>No</td>\n",
              "      <td>Male</td>\n",
              "      <td>18-29</td>\n",
              "      <td>$100,000 - $149,999</td>\n",
              "      <td>Some college or Associate degree</td>\n",
              "      <td>West North Central</td>\n",
              "    </tr>\n",
              "  </tbody>\n",
              "</table>\n",
              "</div>"
            ],
            "text/plain": [
              "   ID         V1  ...                               V37                 V38\n",
              "0   1  1,63E-300  ...                High school degree      South Atlantic\n",
              "1   2  1,63E-301  ...                   Bachelor degree  West South Central\n",
              "2   3  1,63E-300  ...                High school degree  West North Central\n",
              "3   4  1,63E-300  ...  Some college or Associate degree  West North Central\n",
              "4   5  1,63E-300  ...  Some college or Associate degree  West North Central\n",
              "\n",
              "[5 rows x 39 columns]"
            ]
          },
          "metadata": {},
          "execution_count": 6
        }
      ]
    },
    {
      "cell_type": "code",
      "metadata": {
        "colab": {
          "base_uri": "https://localhost:8080/"
        },
        "id": "tiZVRpM8bF4J",
        "outputId": "47a61d5a-7e94-48d6-c5d8-d94c672d7d02"
      },
      "source": [
        "data['V38'].value_counts()"
      ],
      "execution_count": null,
      "outputs": [
        {
          "output_type": "execute_result",
          "data": {
            "text/plain": [
              "East North Central    181\n",
              "Pacific               175\n",
              "South Atlantic        170\n",
              "Middle Atlantic       122\n",
              "West South Central    110\n",
              "West North Central     93\n",
              "Mountain               79\n",
              "New England            75\n",
              "East South Central     38\n",
              "Name: V38, dtype: int64"
            ]
          },
          "metadata": {},
          "execution_count": 7
        }
      ]
    },
    {
      "cell_type": "markdown",
      "metadata": {
        "id": "AE-ibeXegBwl"
      },
      "source": [
        "SQLite tem limitações para lidar com NAN, então realizamos a conversão desses valores para None, para facilitar futuramente o processo de carregamento dos dados do csv para o banco."
      ]
    },
    {
      "cell_type": "code",
      "metadata": {
        "id": "K65ZSCqBf6H9"
      },
      "source": [
        "data = data.astype(object).where(pd.notnull(data), None)"
      ],
      "execution_count": null,
      "outputs": []
    },
    {
      "cell_type": "code",
      "metadata": {
        "colab": {
          "base_uri": "https://localhost:8080/",
          "height": 455
        },
        "id": "0dXI-dYGgRh2",
        "outputId": "333f63b6-51aa-4a10-98b0-dc99125faa8a"
      },
      "source": [
        "data.head()"
      ],
      "execution_count": null,
      "outputs": [
        {
          "output_type": "execute_result",
          "data": {
            "text/html": [
              "<div>\n",
              "<style scoped>\n",
              "    .dataframe tbody tr th:only-of-type {\n",
              "        vertical-align: middle;\n",
              "    }\n",
              "\n",
              "    .dataframe tbody tr th {\n",
              "        vertical-align: top;\n",
              "    }\n",
              "\n",
              "    .dataframe thead th {\n",
              "        text-align: right;\n",
              "    }\n",
              "</style>\n",
              "<table border=\"1\" class=\"dataframe\">\n",
              "  <thead>\n",
              "    <tr style=\"text-align: right;\">\n",
              "      <th></th>\n",
              "      <th>ID</th>\n",
              "      <th>V1</th>\n",
              "      <th>V2</th>\n",
              "      <th>V3</th>\n",
              "      <th>V4</th>\n",
              "      <th>V5</th>\n",
              "      <th>V6</th>\n",
              "      <th>V7</th>\n",
              "      <th>V8</th>\n",
              "      <th>V9</th>\n",
              "      <th>V10</th>\n",
              "      <th>V11</th>\n",
              "      <th>V12</th>\n",
              "      <th>V13</th>\n",
              "      <th>V14</th>\n",
              "      <th>V15</th>\n",
              "      <th>V16</th>\n",
              "      <th>V17</th>\n",
              "      <th>V18</th>\n",
              "      <th>V19</th>\n",
              "      <th>V20</th>\n",
              "      <th>V21</th>\n",
              "      <th>V22</th>\n",
              "      <th>V23</th>\n",
              "      <th>V24</th>\n",
              "      <th>V25</th>\n",
              "      <th>V26</th>\n",
              "      <th>V27</th>\n",
              "      <th>V28</th>\n",
              "      <th>V29</th>\n",
              "      <th>V30</th>\n",
              "      <th>V31</th>\n",
              "      <th>V32</th>\n",
              "      <th>V33</th>\n",
              "      <th>V34</th>\n",
              "      <th>V35</th>\n",
              "      <th>V36</th>\n",
              "      <th>V37</th>\n",
              "      <th>V38</th>\n",
              "    </tr>\n",
              "  </thead>\n",
              "  <tbody>\n",
              "    <tr>\n",
              "      <th>0</th>\n",
              "      <td>1</td>\n",
              "      <td>1,63E-300</td>\n",
              "      <td>Yes</td>\n",
              "      <td>Yes</td>\n",
              "      <td>1</td>\n",
              "      <td>1</td>\n",
              "      <td>1</td>\n",
              "      <td>1</td>\n",
              "      <td>1</td>\n",
              "      <td>1</td>\n",
              "      <td>3</td>\n",
              "      <td>2</td>\n",
              "      <td>1</td>\n",
              "      <td>4</td>\n",
              "      <td>5</td>\n",
              "      <td>6</td>\n",
              "      <td>5</td>\n",
              "      <td>5</td>\n",
              "      <td>5</td>\n",
              "      <td>5</td>\n",
              "      <td>5</td>\n",
              "      <td>5</td>\n",
              "      <td>5</td>\n",
              "      <td>0</td>\n",
              "      <td>0</td>\n",
              "      <td>5</td>\n",
              "      <td>5</td>\n",
              "      <td>5</td>\n",
              "      <td>5</td>\n",
              "      <td>5</td>\n",
              "      <td>I don't understand this question</td>\n",
              "      <td>Yes</td>\n",
              "      <td>No</td>\n",
              "      <td>No</td>\n",
              "      <td>Male</td>\n",
              "      <td>18-29</td>\n",
              "      <td>None</td>\n",
              "      <td>High school degree</td>\n",
              "      <td>South Atlantic</td>\n",
              "    </tr>\n",
              "    <tr>\n",
              "      <th>1</th>\n",
              "      <td>2</td>\n",
              "      <td>1,63E-301</td>\n",
              "      <td>No</td>\n",
              "      <td>None</td>\n",
              "      <td>0</td>\n",
              "      <td>0</td>\n",
              "      <td>0</td>\n",
              "      <td>0</td>\n",
              "      <td>0</td>\n",
              "      <td>0</td>\n",
              "      <td>None</td>\n",
              "      <td>None</td>\n",
              "      <td>None</td>\n",
              "      <td>None</td>\n",
              "      <td>None</td>\n",
              "      <td>None</td>\n",
              "      <td>None</td>\n",
              "      <td>None</td>\n",
              "      <td>None</td>\n",
              "      <td>None</td>\n",
              "      <td>None</td>\n",
              "      <td>None</td>\n",
              "      <td>None</td>\n",
              "      <td>None</td>\n",
              "      <td>None</td>\n",
              "      <td>None</td>\n",
              "      <td>None</td>\n",
              "      <td>None</td>\n",
              "      <td>None</td>\n",
              "      <td>None</td>\n",
              "      <td>None</td>\n",
              "      <td>None</td>\n",
              "      <td>None</td>\n",
              "      <td>Yes</td>\n",
              "      <td>Male</td>\n",
              "      <td>18-29</td>\n",
              "      <td>$0 - $24,999</td>\n",
              "      <td>Bachelor degree</td>\n",
              "      <td>West South Central</td>\n",
              "    </tr>\n",
              "    <tr>\n",
              "      <th>2</th>\n",
              "      <td>3</td>\n",
              "      <td>1,63E-300</td>\n",
              "      <td>Yes</td>\n",
              "      <td>No</td>\n",
              "      <td>1</td>\n",
              "      <td>1</td>\n",
              "      <td>1</td>\n",
              "      <td>0</td>\n",
              "      <td>0</td>\n",
              "      <td>0</td>\n",
              "      <td>1</td>\n",
              "      <td>2</td>\n",
              "      <td>3</td>\n",
              "      <td>4</td>\n",
              "      <td>5</td>\n",
              "      <td>6</td>\n",
              "      <td>4</td>\n",
              "      <td>4</td>\n",
              "      <td>4</td>\n",
              "      <td>4</td>\n",
              "      <td>4</td>\n",
              "      <td>0</td>\n",
              "      <td>0</td>\n",
              "      <td>0</td>\n",
              "      <td>0</td>\n",
              "      <td>0</td>\n",
              "      <td>0</td>\n",
              "      <td>0</td>\n",
              "      <td>0</td>\n",
              "      <td>0</td>\n",
              "      <td>I don't understand this question</td>\n",
              "      <td>No</td>\n",
              "      <td>None</td>\n",
              "      <td>No</td>\n",
              "      <td>Male</td>\n",
              "      <td>18-29</td>\n",
              "      <td>$0 - $24,999</td>\n",
              "      <td>High school degree</td>\n",
              "      <td>West North Central</td>\n",
              "    </tr>\n",
              "    <tr>\n",
              "      <th>3</th>\n",
              "      <td>4</td>\n",
              "      <td>1,63E-300</td>\n",
              "      <td>Yes</td>\n",
              "      <td>Yes</td>\n",
              "      <td>1</td>\n",
              "      <td>1</td>\n",
              "      <td>1</td>\n",
              "      <td>1</td>\n",
              "      <td>1</td>\n",
              "      <td>1</td>\n",
              "      <td>5</td>\n",
              "      <td>6</td>\n",
              "      <td>1</td>\n",
              "      <td>2</td>\n",
              "      <td>4</td>\n",
              "      <td>3</td>\n",
              "      <td>5</td>\n",
              "      <td>5</td>\n",
              "      <td>5</td>\n",
              "      <td>5</td>\n",
              "      <td>5</td>\n",
              "      <td>4</td>\n",
              "      <td>5</td>\n",
              "      <td>4</td>\n",
              "      <td>2</td>\n",
              "      <td>5</td>\n",
              "      <td>5</td>\n",
              "      <td>5</td>\n",
              "      <td>5</td>\n",
              "      <td>5</td>\n",
              "      <td>I don't understand this question</td>\n",
              "      <td>No</td>\n",
              "      <td>None</td>\n",
              "      <td>Yes</td>\n",
              "      <td>Male</td>\n",
              "      <td>18-29</td>\n",
              "      <td>$100,000 - $149,999</td>\n",
              "      <td>Some college or Associate degree</td>\n",
              "      <td>West North Central</td>\n",
              "    </tr>\n",
              "    <tr>\n",
              "      <th>4</th>\n",
              "      <td>5</td>\n",
              "      <td>1,63E-300</td>\n",
              "      <td>Yes</td>\n",
              "      <td>Yes</td>\n",
              "      <td>1</td>\n",
              "      <td>1</td>\n",
              "      <td>1</td>\n",
              "      <td>1</td>\n",
              "      <td>1</td>\n",
              "      <td>1</td>\n",
              "      <td>5</td>\n",
              "      <td>4</td>\n",
              "      <td>6</td>\n",
              "      <td>2</td>\n",
              "      <td>1</td>\n",
              "      <td>3</td>\n",
              "      <td>5</td>\n",
              "      <td>4</td>\n",
              "      <td>4</td>\n",
              "      <td>2</td>\n",
              "      <td>5</td>\n",
              "      <td>1</td>\n",
              "      <td>4</td>\n",
              "      <td>3</td>\n",
              "      <td>5</td>\n",
              "      <td>4</td>\n",
              "      <td>4</td>\n",
              "      <td>1</td>\n",
              "      <td>4</td>\n",
              "      <td>4</td>\n",
              "      <td>Greedo</td>\n",
              "      <td>Yes</td>\n",
              "      <td>No</td>\n",
              "      <td>No</td>\n",
              "      <td>Male</td>\n",
              "      <td>18-29</td>\n",
              "      <td>$100,000 - $149,999</td>\n",
              "      <td>Some college or Associate degree</td>\n",
              "      <td>West North Central</td>\n",
              "    </tr>\n",
              "  </tbody>\n",
              "</table>\n",
              "</div>"
            ],
            "text/plain": [
              "  ID         V1  ...                               V37                 V38\n",
              "0  1  1,63E-300  ...                High school degree      South Atlantic\n",
              "1  2  1,63E-301  ...                   Bachelor degree  West South Central\n",
              "2  3  1,63E-300  ...                High school degree  West North Central\n",
              "3  4  1,63E-300  ...  Some college or Associate degree  West North Central\n",
              "4  5  1,63E-300  ...  Some college or Associate degree  West North Central\n",
              "\n",
              "[5 rows x 39 columns]"
            ]
          },
          "metadata": {},
          "execution_count": 9
        }
      ]
    },
    {
      "cell_type": "markdown",
      "metadata": {
        "id": "__ryHUkT5yYg"
      },
      "source": [
        "Criação de Dataframes auxiliares para permitir a criação de certas tabelas e facilitar a interpretação dos dados."
      ]
    },
    {
      "cell_type": "code",
      "metadata": {
        "id": "E_dTGc11wMoq"
      },
      "source": [
        "movies = [(1 , 'A ameaça fantasma') , (2 ,  'O ataque dos clones') , (3 ,  'A vingança dos Sith'), (4, 'Uma nova esperança'), (5, 'O império contra-ataca'), (6, 'O retorno de Jedi')]\n"
      ],
      "execution_count": null,
      "outputs": []
    },
    {
      "cell_type": "code",
      "metadata": {
        "id": "j55IiYK0hQqT"
      },
      "source": [
        "dataFilm = pd.DataFrame(movies, columns=['id', 'name'])"
      ],
      "execution_count": null,
      "outputs": []
    },
    {
      "cell_type": "code",
      "metadata": {
        "id": "-55zVeVO6m8z"
      },
      "source": [
        "characters = [ (1, 'Han Solo'), (2,  'Luke Skywalker'), (3, 'Princesa Leia'), (4, 'Anakin Skywalker'), (5, 'Obi-Wan Kenobi'), (6, 'Imperador Palpatine'), (7, 'Darth Vader'), (8, 'Lando Calrissian'), (9, 'Boba Fett'), (10,'C3PO'), (11, 'R2D2'), (12, 'Jar Jar Binks'), (13, 'Padme Amidala'), (14, 'Yoda') ]"
      ],
      "execution_count": null,
      "outputs": []
    },
    {
      "cell_type": "code",
      "metadata": {
        "id": "tI5CUPQiPxj-"
      },
      "source": [
        "dataCharacter = pd.DataFrame(characters, columns=['id', 'name'])"
      ],
      "execution_count": null,
      "outputs": []
    },
    {
      "cell_type": "markdown",
      "metadata": {
        "id": "lh101fpG5yxc"
      },
      "source": [
        "***3.Modelagem do banco***"
      ]
    },
    {
      "cell_type": "markdown",
      "metadata": {
        "id": "p6wBgrq4J31R"
      },
      "source": [
        "Baseado no arquivo csv, realizamos a modelagem do Banco de Dados. Nesta modelagem, podemos identificar 4 entidades : Person, Film, Character and Shooting. Ao todo são criadas 6 tabelas a partir da modelagem, sendo estas : Person, Film, Evaluate_film, Character, Evaluate_character, Shooting."
      ]
    },
    {
      "cell_type": "code",
      "metadata": {
        "id": "TWlaGm-3Og6f"
      },
      "source": [
        "create_table_person = \"\"\"CREATE TABLE IF NOT EXISTS Person (\n",
        "\tid integer PRIMARY KEY,\n",
        "\tidAnswer float,\n",
        "  franchise char[5],\n",
        "  fanStarWars char[5],\n",
        "  fanStarTrek char[5],\n",
        "\tfanUniverso char[5],\n",
        "\tfamiliarizedUniverso char[5],\n",
        "\tgender text,\n",
        "\tageGroup text,\n",
        "\tfamilyIncome text,\n",
        "  educationalLevel text,\n",
        "  localization text,\n",
        "\tUNIQUE(id)\n",
        "\t\n",
        "); \"\"\"\n",
        "\n",
        "create_table_film = \"\"\"CREATE TABLE IF NOT EXISTS Film (\n",
        "\tid integer PRIMARY KEY,\n",
        "\tname text NOT NULL\t\n",
        ");\"\"\"\n",
        "\n",
        "create_table_evaluate_film = \"\"\"CREATE TABLE IF NOT EXISTS Evaluate_film (\n",
        "\tgrade integer,\n",
        "  affirmation boolean NOT NULL,\n",
        "  film_id integer,\n",
        "  person_id integer,\n",
        "\tFOREIGN KEY (film_id) REFERENCES Film (id),\n",
        "\tFOREIGN KEY (person_id) REFERENCES Person (id)\n",
        ");\"\"\"\n",
        "\n",
        "create_table_character = \"\"\"CREATE TABLE IF NOT EXISTS Character (\n",
        "\tid integer PRIMARY KEY,\n",
        "\tname text NOT NULL\t\n",
        ");\"\"\"\n",
        "\n",
        "create_table_evaluate_character = \"\"\"CREATE TABLE IF NOT EXISTS Evaluate_character (\n",
        "\trating integer,\n",
        "  character_id integer,\n",
        "  person_id integer,\n",
        "\tFOREIGN KEY (character_id) REFERENCES Character (id),\n",
        "\tFOREIGN KEY (person_id) REFERENCES Person (id)\n",
        ");\"\"\"\n",
        "\n",
        "create_table_shooting = \"\"\"CREATE TABLE IF NOT EXISTS Shooting (\n",
        "  answerQuestion text,\n",
        "  person_id integer,\n",
        "\tFOREIGN KEY (person_id) REFERENCES Person (id)\n",
        ");\"\"\""
      ],
      "execution_count": null,
      "outputs": []
    },
    {
      "cell_type": "markdown",
      "metadata": {
        "id": "oc2OOnn5F-IB"
      },
      "source": [
        "Criação e estabelecimento de conexão com o banco"
      ]
    },
    {
      "cell_type": "code",
      "metadata": {
        "id": "vVXNqMnlGFrq"
      },
      "source": [
        "database = 'py_database_star_wars.db'"
      ],
      "execution_count": null,
      "outputs": []
    },
    {
      "cell_type": "code",
      "metadata": {
        "id": "MGBB-ENtHPfW"
      },
      "source": [
        "def create_connection(databaseFile):\n",
        "   \n",
        "    connectionDatabase = None\n",
        "    try:\n",
        "        connectionDatabase = sqlite3.connect(databaseFile)\n",
        "        return connectionDatabase\n",
        "    except Error as e:\n",
        "        print(e)\n",
        "\n",
        "    return connectionDatabase"
      ],
      "execution_count": null,
      "outputs": []
    },
    {
      "cell_type": "code",
      "metadata": {
        "id": "MG8_NPjnGRQp"
      },
      "source": [
        "connectionDatabase = create_connection(database)"
      ],
      "execution_count": null,
      "outputs": []
    },
    {
      "cell_type": "markdown",
      "metadata": {
        "id": "YQRvVNp46qz7"
      },
      "source": [
        "Criação das tabelas do banco."
      ]
    },
    {
      "cell_type": "code",
      "metadata": {
        "id": "0yIKSlWHIO0f"
      },
      "source": [
        "def create_table(connectionDatabase, create_table_sql):\n",
        "  \n",
        "    try:\n",
        "        curs = connectionDatabase.cursor()\n",
        "        curs.execute(create_table_sql)\n",
        "    except Error as e:\n",
        "        print(e)"
      ],
      "execution_count": null,
      "outputs": []
    },
    {
      "cell_type": "code",
      "metadata": {
        "id": "5mLKfXh3KBmE"
      },
      "source": [
        "if connectionDatabase is not None :\n",
        "   \n",
        "  create_table(connectionDatabase, create_table_person)\n",
        "  create_table(connectionDatabase, create_table_film)\n",
        "  create_table(connectionDatabase, create_table_evaluate_film)\n",
        "  create_table(connectionDatabase, create_table_character)\n",
        "  create_table(connectionDatabase, create_table_evaluate_character)\n",
        "  create_table(connectionDatabase, create_table_shooting)\n",
        "\n",
        "else:\n",
        "  print(f'Error. Database was not created.')"
      ],
      "execution_count": null,
      "outputs": []
    },
    {
      "cell_type": "markdown",
      "metadata": {
        "id": "hJUsu-_N5Bd6"
      },
      "source": [
        "Carregamento de informações dos Dataframes para o banco"
      ]
    },
    {
      "cell_type": "code",
      "metadata": {
        "id": "SZqqLij-AB2l"
      },
      "source": [
        "def upload_csv_table_person_db(curs):\n",
        "  \n",
        "  numberRows = len(data.index)\n",
        "  for line in range(0, numberRows):\n",
        "    row = data.iloc[line,[0, 1, 2, 3, 31, 32, 33, 34, 35, 36, 37, 38]]\n",
        "    curs.execute(\"INSERT  INTO Person (id, idAnswer, franchise, fanStarWars, fanStarTrek, fanUniverso, familiarizedUniverso, gender, ageGroup, familyIncome, educationalLevel, localization ) VALUES (?, ?, ?, ?, ?, ?, ? ,? , ? ,?, ?, ?);\", ((int(row[0]), str(row[1]), str(row[2]), str(row[3]), str(row[4]), str(row[5]), str(row[6]), str(row[7]), str(row[8]), str(row[9]), str(row[10]), str(row[11]))))"
      ],
      "execution_count": null,
      "outputs": []
    },
    {
      "cell_type": "code",
      "metadata": {
        "id": "IN0RNQym0gDS"
      },
      "source": [
        "def upload_csv_table_film_db(curs):\n",
        "  \n",
        "  numberRows = len(dataFilm.index)\n",
        "  for line in range(0, numberRows):\n",
        "    row = dataFilm.iloc[line,[0, 1]]\n",
        "    curs.execute(\"INSERT INTO Film (id, name ) VALUES (?, ?);\", ((int(row[0]), str(row[1]))))"
      ],
      "execution_count": null,
      "outputs": []
    },
    {
      "cell_type": "code",
      "metadata": {
        "id": "37_RyjhsBrrK"
      },
      "source": [
        "def fill_film(curs, line, firstColumn, secondColumn, lineFilm):\n",
        "  \n",
        "    row = data.iloc[line,[0, firstColumn , secondColumn ]]\n",
        "    rowMovie = dataFilm.iloc[lineFilm,[0]]\n",
        "    curs.execute(\"INSERT INTO Evaluate_film (grade, affirmation, film_id, person_id ) VALUES (?, ?, ?, ? );\", ((str(row[2]), bool(row[1]), int(rowMovie[0]), int(row[0]))))"
      ],
      "execution_count": null,
      "outputs": []
    },
    {
      "cell_type": "code",
      "metadata": {
        "id": "502loTI38wub"
      },
      "source": [
        "def upload_csv_table_evaluate_film_db(curs):\n",
        "  \n",
        "  numberRows = len(data.index)\n",
        "  y = len(dataFilm.index)\n",
        "  for line in range(0, numberRows):\n",
        "    for i, j, k in zip(range(4, 9), range(10,15), range(y)):\n",
        "      fill_film(curs, line, i, j, k)"
      ],
      "execution_count": null,
      "outputs": []
    },
    {
      "cell_type": "code",
      "metadata": {
        "id": "fYJ9jPR7P_fQ"
      },
      "source": [
        "def upload_csv_table_character_db(curs):\n",
        "  \n",
        "  numberRows = len(dataCharacter.index)\n",
        "  for line in range(0, numberRows):\n",
        "    row = dataCharacter.iloc[line,[0, 1]]\n",
        "    curs.execute(\"INSERT INTO Character (id, name) VALUES (?, ?);\", ((int(row[0]), str(row[1]))))"
      ],
      "execution_count": null,
      "outputs": []
    },
    {
      "cell_type": "code",
      "metadata": {
        "id": "68subNBgaAAR"
      },
      "source": [
        "def fill_character(curs, line, column, lineCharacter):\n",
        "  \n",
        "    row = data.iloc[line,[0, column]]\n",
        "    rowCharacter = dataCharacter.iloc[lineCharacter,[0]]\n",
        "    curs.execute(\"INSERT INTO Evaluate_character (rating, character_id, person_id ) VALUES (?, ?, ? );\", ((str(row[1]), int(rowCharacter[0]), int(row[0]))))"
      ],
      "execution_count": null,
      "outputs": []
    },
    {
      "cell_type": "code",
      "metadata": {
        "id": "QWr-oH3WbDvf"
      },
      "source": [
        "def upload_csv_table_evaluate_character_db(curs):\n",
        "  \n",
        "  numberRows = len(data.index)\n",
        "  y = len(dataCharacter.index)\n",
        "  for line in range(0, numberRows):\n",
        "    for i, j in zip(range(16, 29), range(y)):\n",
        "      fill_character(curs, line, i, j)"
      ],
      "execution_count": null,
      "outputs": []
    },
    {
      "cell_type": "code",
      "metadata": {
        "id": "E39bCa5aj8IK"
      },
      "source": [
        "def upload_csv_table_shooting_db(curs):\n",
        "  \n",
        "  numberRows = len(data.index)\n",
        "  for line in range(0, numberRows):\n",
        "    row = data.iloc[line,[0, 30]]\n",
        "    curs.execute(\"INSERT  INTO Shooting (answerQuestion, person_id) VALUES (?, ?);\", (str(row[1]), int(row[0])))"
      ],
      "execution_count": null,
      "outputs": []
    },
    {
      "cell_type": "code",
      "metadata": {
        "id": "gBx48BAv_0ri"
      },
      "source": [
        "def upload_csv_db(connectionDatabase):\n",
        "  \n",
        "  curs = connectionDatabase.cursor()\n",
        "\n",
        "  upload_csv_table_person_db(curs)\n",
        "  upload_csv_table_film_db(curs)\n",
        "  upload_csv_table_evaluate_film_db(curs)\n",
        "  upload_csv_table_character_db(curs)\n",
        "  upload_csv_table_evaluate_character_db(curs)\n",
        "  upload_csv_table_shooting_db(curs)\n",
        "\n",
        "upload_csv_db(connectionDatabase)"
      ],
      "execution_count": null,
      "outputs": []
    },
    {
      "cell_type": "markdown",
      "metadata": {
        "id": "A2bJcU1766P3"
      },
      "source": [
        "***4.Consultas SQL***"
      ]
    },
    {
      "cell_type": "markdown",
      "metadata": {
        "id": "aFDMSq-Ip8c7"
      },
      "source": [
        "Definição das queries"
      ]
    },
    {
      "cell_type": "code",
      "metadata": {
        "id": "6NTIRP37qtDb"
      },
      "source": [
        "# Descobrir  o número de pessoas que são apenas fãs da franquia Star Wars\n",
        "query1= \"\"\"SELECT id FROM Person WHERE fanStarWars= 'Yes' AND fanStarTrek = 'No'; \"\"\"\n",
        "\n",
        "# Descobrir o número de pessoas que são apenas fãs da franquia Star Trek\n",
        "query2= \"\"\"SELECT id FROM Person WHERE fanStarWars= 'No' AND fanStarTrek = 'Yes'; \"\"\"\n",
        "\n",
        "# Descobrir o número de pessoas que são fãs das duas franquias \n",
        "query3= \"\"\"SELECT id FROM Person WHERE fanStarWars= 'Yes' AND fanStarTrek = 'Yes'; \"\"\"\n",
        "\n",
        "# Descobrir o número de pessoas que são fãs de nenhuma das franquias\n",
        "query4= \"\"\"SELECT id FROM Person WHERE fanStarWars= 'No' AND fanStarTrek = 'No'; \"\"\"\n",
        "\n",
        "# Descobrir o número de pessoas que não responderam a nenhuma das perguntas\n",
        "query5= \"\"\"SELECT id FROM Person WHERE fanStarWars= 'None' AND fanStarTrek = 'None'; \"\"\""
      ],
      "execution_count": null,
      "outputs": []
    },
    {
      "cell_type": "code",
      "metadata": {
        "id": "ZSLRGG8uWUAk"
      },
      "source": [
        "# Descobrir o gênero das pessoas que não são fãs de nenhuma das franquias\n",
        "query6= \"\"\"SELECT id FROM Person WHERE fanStarWars= 'No' AND fanStarTrek = 'No' AND gender = 'Male'; \"\"\" \n",
        "query7= \"\"\"SELECT id FROM Person WHERE fanStarWars= 'No' AND fanStarTrek = 'No' AND gender = 'Female'; \"\"\" \n",
        "\n",
        "# Descobrir o gênero das pessoas que são fãs das duas franquias\n",
        "query8= \"\"\"SELECT id FROM Person WHERE fanStarWars= 'Yes' AND fanStarTrek = 'Yes' AND gender = 'Male'; \"\"\" \n",
        "query9= \"\"\"SELECT id FROM Person WHERE fanStarWars= 'Yes' AND fanStarTrek = 'Yes' AND gender = 'Female'; \"\"\" \n"
      ],
      "execution_count": null,
      "outputs": []
    },
    {
      "cell_type": "code",
      "metadata": {
        "id": "e87Yr59VlxUY"
      },
      "source": [
        "# Descobrir quantos fãs apenas da franquia Star Wars acreditam que Han Solo atirou primeiro\n",
        "query10 = \"\"\"  SELECT * FROM Person  INNER JOIN Shooting ON  Shooting.person_id = Person.id WHERE Person.fanStarWars = 'Yes' AND  Person.fanStarTrek = 'No' AND Shooting.answerQuestion = 'Han'; \"\"\"\n",
        "\n",
        "# Descobrir quantos fãs apenas da franquia Star Wars acreditam que Greedo atirou primeiro\n",
        "query11 = \"\"\"  SELECT * FROM Person  INNER JOIN Shooting ON  Shooting.person_id = Person.id WHERE Person.fanStarWars = 'Yes' AND Person.fanStarTrek = 'No' AND Shooting.answerQuestion = 'Greedo'; \"\"\"\n",
        "\n",
        "# Descobrir quantos fãs apenas da franquia Star Wars não sabem responder \n",
        "query12 = \"\"\"  SELECT * FROM Person  INNER JOIN Shooting ON  Shooting.person_id = Person.id WHERE Person.fanStarWars = 'Yes' AND Person.fanStarTrek = 'No' AND Shooting.answerQuestion = \"I don't understand this question\"; \"\"\""
      ],
      "execution_count": null,
      "outputs": []
    },
    {
      "cell_type": "code",
      "metadata": {
        "id": "G0TL-jQlUcuZ"
      },
      "source": [
        "# Descobrir quais filmes são os favoritos dos fãs de Star Wars\n",
        "query13 = \"\"\"SELECT DISTINCT F.name FROM Film AS F INNER JOIN Evaluate_film AS E ON E.film_id = F.id WHERE EXISTS (SELECT E.film_id FROM Evaluate_film AS E INNER JOIN Person AS P ON P.id = E.person_id WHERE P.fanStarWars = 'Yes' AND P.fanStarTrek = 'No' AND P.gender = 'Female' AND E.grade = 1 AND E.affirmation = 1 );\n",
        "          \"\"\""
      ],
      "execution_count": null,
      "outputs": []
    },
    {
      "cell_type": "markdown",
      "metadata": {
        "id": "unQg-lnXqVUK"
      },
      "source": [
        "Métodos auxiliares para gerar as consultas"
      ]
    },
    {
      "cell_type": "code",
      "metadata": {
        "id": "OjaaHFR-hj7q"
      },
      "source": [
        "def execute_query(conn, query):\n",
        "\n",
        "    cur = conn.cursor()\n",
        "    cur.execute(query)\n",
        "\n",
        "    rows = cur.fetchall()\n",
        "    count = 0\n",
        "    for row in rows:\n",
        "        count +=1\n",
        "        \n",
        "    return count"
      ],
      "execution_count": null,
      "outputs": []
    },
    {
      "cell_type": "code",
      "metadata": {
        "id": "apJC8va4Uh_h"
      },
      "source": [
        "def execute_query2(conn, query):\n",
        "\n",
        "    cur = conn.cursor()\n",
        "    cur.execute(query)\n",
        "\n",
        "    rows = cur.fetchall()\n",
        "\n",
        "    for row in rows:\n",
        "      print(row)\n",
        "    \n",
        " "
      ],
      "execution_count": null,
      "outputs": []
    },
    {
      "cell_type": "code",
      "metadata": {
        "id": "CgpexCqkNaGq"
      },
      "source": [
        "def result_query_fan():\n",
        "  \n",
        "  valStarWars = execute_query(connectionDatabase, query1)\n",
        "  valStarTrek = execute_query(connectionDatabase, query2)\n",
        "  valWarsTrek = execute_query(connectionDatabase, query3)\n",
        "  valnotStar = execute_query(connectionDatabase, query4)\n",
        "  valNone = execute_query(connectionDatabase, query5)\n",
        "\n",
        "  return valStarWars, valStarTrek, valWarsTrek , valnotStar , valNone"
      ],
      "execution_count": null,
      "outputs": []
    },
    {
      "cell_type": "code",
      "metadata": {
        "id": "fRPZWrVy9PjY"
      },
      "source": [
        "def fan_profile(number):\n",
        "\n",
        "  # Gera os gráficos para cada perfil \n",
        "  valStarWars, valStarTrek, valWarsTrek , valnotStar , valNone = result_query_fan()\n",
        "  fan = valStarWars + valStarTrek - valWarsTrek\n",
        "\n",
        "  if (number == 1) : # Considera o total de respostas\n",
        "  \n",
        "    totalAnswers = 1186\n",
        "    labels = 'Sem resposta' + ' ' + '(' + str(valNone) + ')', 'Responderam as duas' + ' ' + '(' + str(fan + valnotStar) + ')' , 'Responderam a pelo menos uma ' + ' ' + '(' + str(totalAnswers - valNone - fan - valnotStar) + ')'\n",
        "    sizes = [valNone, fan + valnotStar ,  totalAnswers - valNone - fan - valnotStar ]\n",
        "    explode=( 0.1, 0, 0)\n",
        "    fig1, ax1 = plt.subplots()\n",
        "    ax1.pie(sizes, explode=explode, labels=labels, autopct='%1.1f%%',\n",
        "        shadow=True, startangle=90)\n",
        "    ax1.axis('equal') \n",
        "    plt.show()\n",
        "\n",
        "  else: # Considera apenas as duas respostas completas (fã star Wars e fã Star Trek)\n",
        "\n",
        "    totalAnswers = fan + valnotStar\n",
        "    fig2 = plt.figure()\n",
        "    ax = fig2.add_axes([0,0,1,1])\n",
        "    typeFan = ['Apenas StarWars', 'Apenas StarTrek', 'Fã das duas', 'Fã de nenhuma franquia']\n",
        "    answers = [valStarWars, valStarTrek, valWarsTrek , valnotStar ]\n",
        "    ax.bar(typeFan,answers )\n",
        "    plt.show()\n"
      ],
      "execution_count": null,
      "outputs": []
    },
    {
      "cell_type": "code",
      "metadata": {
        "id": "zZvhBfKqW_QQ"
      },
      "source": [
        "def result_query_gender(number):\n",
        "\n",
        "  if (number == 1): # Não é fã de nenhuma franquia\n",
        "\n",
        "    valMale = execute_query(connectionDatabase, query6)\n",
        "    valFemale = execute_query(connectionDatabase, query7)\n",
        "\n",
        "    return valMale, valFemale\n",
        "\n",
        "  else: # Não é fã de nenhuma franquia\n",
        "  \n",
        "    valMale = execute_query(connectionDatabase, query8)\n",
        "    valFemale = execute_query(connectionDatabase, query9)\n",
        "\n",
        "    return valMale, valFemale\n",
        "  "
      ],
      "execution_count": null,
      "outputs": []
    },
    {
      "cell_type": "code",
      "metadata": {
        "id": "H7s00bqCahEa"
      },
      "source": [
        "def gender_profile(number):\n",
        "\n",
        "  valMale, valFemale = result_query_gender(number)\n",
        "  labels = 'Homens'+ ' ' + '(' + str(valMale) + ')', 'Mulheres' + ' ' + '(' + str(valFemale) + ')'\n",
        "  sizes = [valMale, valFemale ]\n",
        "    #explode=( 0.1, 0, 0)\n",
        "  fig1, ax1 = plt.subplots()\n",
        "  ax1.pie(sizes, labels=labels, autopct='%1.1f%%',\n",
        "        shadow=True, startangle=90)\n",
        "  ax1.axis('equal') \n",
        "  plt.show()"
      ],
      "execution_count": null,
      "outputs": []
    },
    {
      "cell_type": "code",
      "metadata": {
        "id": "cQqdbp8LiJgZ"
      },
      "source": [
        "def result_query_guess(number):\n",
        "\n",
        "  if(number == 1): # Fãs apenas de Star Wars\n",
        "  \n",
        "    valHan = execute_query(connectionDatabase, query10)\n",
        "    valGreedo = execute_query(connectionDatabase, query11)\n",
        "    valIDK = execute_query(connectionDatabase, query12)\n",
        "\n",
        "    return valHan, valGreedo, valIDK"
      ],
      "execution_count": null,
      "outputs": []
    },
    {
      "cell_type": "code",
      "metadata": {
        "id": "f6ZUjS77jUqZ"
      },
      "source": [
        "def guess_shooting(number):\n",
        "# Gera gráfico com resultados da pergunta (Quem atirou primeiro?) \n",
        "\n",
        "  if(number == 1):\n",
        "\n",
        "    valHan, valGreedo, valIDK = result_query_guess(number) \n",
        "    fig2 = plt.figure()\n",
        "    ax = fig2.add_axes([0,0,1,1])\n",
        "    character = ['Han Solo', 'Greedo', 'Não soube responder']\n",
        "    answers = [valHan, valGreedo, valIDK ]\n",
        "    ax.bar(character , answers )\n",
        "    plt.show()\n"
      ],
      "execution_count": null,
      "outputs": []
    },
    {
      "cell_type": "markdown",
      "metadata": {
        "id": "3Sp-IZ278VX9"
      },
      "source": [
        "***5.Resultados***"
      ]
    },
    {
      "cell_type": "markdown",
      "metadata": {
        "id": "9TA3frfp8dib"
      },
      "source": [
        "Analisando o csv gerado a partir das respostas de 1186 pessoas para uma pesquisa de opinião relacionada a Star Wars, traçamos um perfil para os entrevistados. "
      ]
    },
    {
      "cell_type": "markdown",
      "metadata": {
        "id": "eJ8UfXFslK2t"
      },
      "source": [
        "*Pergunta : Qual é a porcentagem de pessoas que não responderam às perguntas sobre se considerar ou não fã de alguma franquia?*"
      ]
    },
    {
      "cell_type": "markdown",
      "metadata": {
        "id": "aNysj77bLz14"
      },
      "source": [
        "Com relação aos entrevistados se considerarem ou não fãs das franquias Star Wars e/ou Star Trek, temos que cerca de 29.5% desses indivíduos não responderam a nenhuma das duas perguntas."
      ]
    },
    {
      "cell_type": "code",
      "metadata": {
        "colab": {
          "base_uri": "https://localhost:8080/",
          "height": 252
        },
        "id": "2ly_Bshhc2Lm",
        "outputId": "14689181-7504-4626-94de-6afdfe285c17"
      },
      "source": [
        "fan_profile(1)"
      ],
      "execution_count": null,
      "outputs": [
        {
          "output_type": "display_data",
          "data": {
            "image/png": "[encoded data removed]",
            "text/plain": [
              "<Figure size 432x288 with 1 Axes>"
            ]
          },
          "metadata": {}
        }
      ]
    },
    {
      "cell_type": "markdown",
      "metadata": {
        "id": "CuiYsPr0kMqB"
      },
      "source": [
        "*Pergunta : Qual é o número de fãs apenas da franquia Star Wars? E apenas da franquia Star Trek? Das duas franquias ? De nenhuma franquia?*"
      ]
    },
    {
      "cell_type": "markdown",
      "metadata": {
        "id": "Co8E3j6nNCFL"
      },
      "source": [
        "Acerca das 458 pessoas que responderam às duas perguntas sobre se considerar ou não fã das franquias, podemos observar que o número de indivíduos fãs apenas de Star Wars é consideravelmente superior ao número de fãs apenas de Star Trek ou até mesmo, superior ao número de fãs ao mesmo tempo das duas franquias."
      ]
    },
    {
      "cell_type": "code",
      "metadata": {
        "colab": {
          "base_uri": "https://localhost:8080/",
          "height": 335
        },
        "id": "DAvSP5jnRsRD",
        "outputId": "ca317b3d-0669-430f-cceb-b7bc998720e4"
      },
      "source": [
        "fan_profile(2)"
      ],
      "execution_count": null,
      "outputs": [
        {
          "output_type": "display_data",
          "data": {
            "image/png": "[encoded data removed]",
            "text/plain": [
              "<Figure size 432x288 with 1 Axes>"
            ]
          },
          "metadata": {
            "needs_background": "light"
          }
        }
      ]
    },
    {
      "cell_type": "markdown",
      "metadata": {
        "id": "aHSPgyCSleuf"
      },
      "source": [
        "*Pergunta : Com relação aos fãs de nenhuma das franquias, quantos desses são mulheres e quantos são homens?*"
      ]
    },
    {
      "cell_type": "markdown",
      "metadata": {
        "id": "fcAEJeKJWH8J"
      },
      "source": [
        "As mulheres fazem parte de mais da metade do grupo de pessoas que não são fãs de nenhuma das duas franquias."
      ]
    },
    {
      "cell_type": "code",
      "metadata": {
        "colab": {
          "base_uri": "https://localhost:8080/",
          "height": 247
        },
        "id": "YUa8_zmNbzvn",
        "outputId": "a7bb5077-33b4-438c-bbe2-429c13080bf0"
      },
      "source": [
        "gender_profile(1)"
      ],
      "execution_count": null,
      "outputs": [
        {
          "output_type": "display_data",
          "data": {
            "image/png": "[encoded data removed]",
            "text/plain": [
              "<Figure size 432x288 with 1 Axes>"
            ]
          },
          "metadata": {}
        }
      ]
    },
    {
      "cell_type": "markdown",
      "metadata": {
        "id": "Tm7ydLY9l_sr"
      },
      "source": [
        "*Pergunta :Com relação aos fãs das duas franquias, qual é o gênero predominante?*"
      ]
    },
    {
      "cell_type": "markdown",
      "metadata": {
        "id": "UX_3PHfLf4Li"
      },
      "source": [
        "Se formos observar o perfil dos fãs das duas franquias, podemos observar que cerca de 70% desse grupo é composto por homens."
      ]
    },
    {
      "cell_type": "code",
      "metadata": {
        "colab": {
          "base_uri": "https://localhost:8080/",
          "height": 247
        },
        "id": "qW26IxKrfxdK",
        "outputId": "44f62d13-9f33-4b45-e4d3-8db39fc6dc2d"
      },
      "source": [
        "gender_profile(2)"
      ],
      "execution_count": null,
      "outputs": [
        {
          "output_type": "display_data",
          "data": {
            "image/png": "[encoded data removed]",
            "text/plain": [
              "<Figure size 432x288 with 1 Axes>"
            ]
          },
          "metadata": {}
        }
      ]
    },
    {
      "cell_type": "markdown",
      "metadata": {
        "id": "5pSC1mEjmQqH"
      },
      "source": [
        "*Pergunta : Dos fãs apenas de Star Wars qual é o quantitativo de pessoas que não souberam responder quem atirou primeiro?*"
      ]
    },
    {
      "cell_type": "markdown",
      "metadata": {
        "id": "EIyAfq6igq-j"
      },
      "source": [
        "Ao checarmos o grupo de fãs apenas da franquia Star Wars, observamos que apesar de fãs exclusivamente dessa franquia, parte dos entrevistados não souberam responder a pergunta sobre quem atirou primeiro. "
      ]
    },
    {
      "cell_type": "code",
      "metadata": {
        "colab": {
          "base_uri": "https://localhost:8080/",
          "height": 335
        },
        "id": "V0KzzkSxkHEB",
        "outputId": "53343557-5139-4c4e-bc71-0c2efde42dbc"
      },
      "source": [
        "guess_shooting(1)"
      ],
      "execution_count": null,
      "outputs": [
        {
          "output_type": "display_data",
          "data": {
            "image/png": "[encoded data removed]",
            "text/plain": [
              "<Figure size 432x288 with 1 Axes>"
            ]
          },
          "metadata": {
            "needs_background": "light"
          }
        }
      ]
    },
    {
      "cell_type": "markdown",
      "metadata": {
        "id": "gsuGICp-nCzo"
      },
      "source": [
        "*Pergunta : Dado que a pessoa assistiu ao filme e que ela seja de gênero feminino, quais são os filmes favoritos desse grupo em específico?*"
      ]
    },
    {
      "cell_type": "markdown",
      "metadata": {
        "id": "-b59eC6vgvM6"
      },
      "source": [
        "Para o grupo de fãs exclusivamente de Star Wars composto apenas por mulheres que de fato assistiram aos filmes, podemos observar que o 'Retorno do Jedi' não é  considerado o favorito."
      ]
    },
    {
      "cell_type": "code",
      "metadata": {
        "colab": {
          "base_uri": "https://localhost:8080/"
        },
        "id": "9T5wfvbXWKeZ",
        "outputId": "6e42689c-40b8-4536-fb0a-6272eba9576b"
      },
      "source": [
        "execute_query2(connectionDatabase, query13)"
      ],
      "execution_count": null,
      "outputs": [
        {
          "output_type": "stream",
          "name": "stdout",
          "text": [
            "('A ameaça fantasma',)\n",
            "('O ataque dos clones',)\n",
            "('A vingança dos Sith',)\n",
            "('Uma nova esperança',)\n",
            "('O império contra-ataca',)\n"
          ]
        }
      ]
    }
  ]
}